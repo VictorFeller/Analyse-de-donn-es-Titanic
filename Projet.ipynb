{
 "cells": [
  {
   "cell_type": "markdown",
   "id": "7dbba591",
   "metadata": {},
   "source": [
    "# Importer les librairies"
   ]
  },
  {
   "cell_type": "code",
   "execution_count": 69,
   "id": "0e1c95d0",
   "metadata": {},
   "outputs": [],
   "source": [
    "import pandas as pd # Manipulation et analyse de données\n",
    "# Visualisation\n",
    "import seaborn as sns  # Bibliothèque de visualisation de données construite au-dessus de matplotlib\n",
    "import matplotlib.pyplot as plt # Collection de fonctions qui permettent la réalisation de visualisation graphique\n",
    "from scipy import stats #Bibliothèque utilisée pour des calculs statistiques (ex : t-test et p-valeur)\n",
    "\n",
    "\n",
    "# IMPORTER LES LIBRAIRIES NECESSAIRES A L'ETUDE"
   ]
  },
  {
   "cell_type": "markdown",
   "id": "3abf0329",
   "metadata": {},
   "source": [
    "# Importer les données"
   ]
  },
  {
   "cell_type": "code",
   "execution_count": 70,
   "id": "1066b6ec",
   "metadata": {},
   "outputs": [
    {
     "data": {
      "text/html": [
       "<div>\n",
       "<style scoped>\n",
       "    .dataframe tbody tr th:only-of-type {\n",
       "        vertical-align: middle;\n",
       "    }\n",
       "\n",
       "    .dataframe tbody tr th {\n",
       "        vertical-align: top;\n",
       "    }\n",
       "\n",
       "    .dataframe thead th {\n",
       "        text-align: right;\n",
       "    }\n",
       "</style>\n",
       "<table border=\"1\" class=\"dataframe\">\n",
       "  <thead>\n",
       "    <tr style=\"text-align: right;\">\n",
       "      <th></th>\n",
       "      <th>PassengerId</th>\n",
       "      <th>Survived</th>\n",
       "      <th>Pclass</th>\n",
       "      <th>Name</th>\n",
       "      <th>Sex</th>\n",
       "      <th>Age</th>\n",
       "      <th>SibSp</th>\n",
       "      <th>Parch</th>\n",
       "      <th>Ticket</th>\n",
       "      <th>Fare</th>\n",
       "      <th>Cabin</th>\n",
       "      <th>Embarked</th>\n",
       "    </tr>\n",
       "  </thead>\n",
       "  <tbody>\n",
       "    <tr>\n",
       "      <th>0</th>\n",
       "      <td>1</td>\n",
       "      <td>0</td>\n",
       "      <td>3</td>\n",
       "      <td>Braund, Mr. Owen Harris</td>\n",
       "      <td>male</td>\n",
       "      <td>22.0</td>\n",
       "      <td>1</td>\n",
       "      <td>0</td>\n",
       "      <td>A/5 21171</td>\n",
       "      <td>7.2500</td>\n",
       "      <td>NaN</td>\n",
       "      <td>S</td>\n",
       "    </tr>\n",
       "    <tr>\n",
       "      <th>1</th>\n",
       "      <td>2</td>\n",
       "      <td>1</td>\n",
       "      <td>1</td>\n",
       "      <td>Cumings, Mrs. John Bradley (Florence Briggs Th...</td>\n",
       "      <td>female</td>\n",
       "      <td>38.0</td>\n",
       "      <td>1</td>\n",
       "      <td>0</td>\n",
       "      <td>PC 17599</td>\n",
       "      <td>71.2833</td>\n",
       "      <td>C85</td>\n",
       "      <td>C</td>\n",
       "    </tr>\n",
       "    <tr>\n",
       "      <th>2</th>\n",
       "      <td>3</td>\n",
       "      <td>1</td>\n",
       "      <td>3</td>\n",
       "      <td>Heikkinen, Miss. Laina</td>\n",
       "      <td>female</td>\n",
       "      <td>26.0</td>\n",
       "      <td>0</td>\n",
       "      <td>0</td>\n",
       "      <td>STON/O2. 3101282</td>\n",
       "      <td>7.9250</td>\n",
       "      <td>NaN</td>\n",
       "      <td>S</td>\n",
       "    </tr>\n",
       "    <tr>\n",
       "      <th>3</th>\n",
       "      <td>4</td>\n",
       "      <td>1</td>\n",
       "      <td>1</td>\n",
       "      <td>Futrelle, Mrs. Jacques Heath (Lily May Peel)</td>\n",
       "      <td>female</td>\n",
       "      <td>35.0</td>\n",
       "      <td>1</td>\n",
       "      <td>0</td>\n",
       "      <td>113803</td>\n",
       "      <td>53.1000</td>\n",
       "      <td>C123</td>\n",
       "      <td>S</td>\n",
       "    </tr>\n",
       "    <tr>\n",
       "      <th>4</th>\n",
       "      <td>5</td>\n",
       "      <td>0</td>\n",
       "      <td>3</td>\n",
       "      <td>Allen, Mr. William Henry</td>\n",
       "      <td>male</td>\n",
       "      <td>35.0</td>\n",
       "      <td>0</td>\n",
       "      <td>0</td>\n",
       "      <td>373450</td>\n",
       "      <td>8.0500</td>\n",
       "      <td>NaN</td>\n",
       "      <td>S</td>\n",
       "    </tr>\n",
       "    <tr>\n",
       "      <th>...</th>\n",
       "      <td>...</td>\n",
       "      <td>...</td>\n",
       "      <td>...</td>\n",
       "      <td>...</td>\n",
       "      <td>...</td>\n",
       "      <td>...</td>\n",
       "      <td>...</td>\n",
       "      <td>...</td>\n",
       "      <td>...</td>\n",
       "      <td>...</td>\n",
       "      <td>...</td>\n",
       "      <td>...</td>\n",
       "    </tr>\n",
       "    <tr>\n",
       "      <th>886</th>\n",
       "      <td>887</td>\n",
       "      <td>0</td>\n",
       "      <td>2</td>\n",
       "      <td>Montvila, Rev. Juozas</td>\n",
       "      <td>male</td>\n",
       "      <td>27.0</td>\n",
       "      <td>0</td>\n",
       "      <td>0</td>\n",
       "      <td>211536</td>\n",
       "      <td>13.0000</td>\n",
       "      <td>NaN</td>\n",
       "      <td>S</td>\n",
       "    </tr>\n",
       "    <tr>\n",
       "      <th>887</th>\n",
       "      <td>888</td>\n",
       "      <td>1</td>\n",
       "      <td>1</td>\n",
       "      <td>Graham, Miss. Margaret Edith</td>\n",
       "      <td>female</td>\n",
       "      <td>19.0</td>\n",
       "      <td>0</td>\n",
       "      <td>0</td>\n",
       "      <td>112053</td>\n",
       "      <td>30.0000</td>\n",
       "      <td>B42</td>\n",
       "      <td>S</td>\n",
       "    </tr>\n",
       "    <tr>\n",
       "      <th>888</th>\n",
       "      <td>889</td>\n",
       "      <td>0</td>\n",
       "      <td>3</td>\n",
       "      <td>Johnston, Miss. Catherine Helen \"Carrie\"</td>\n",
       "      <td>female</td>\n",
       "      <td>NaN</td>\n",
       "      <td>1</td>\n",
       "      <td>2</td>\n",
       "      <td>W./C. 6607</td>\n",
       "      <td>23.4500</td>\n",
       "      <td>NaN</td>\n",
       "      <td>S</td>\n",
       "    </tr>\n",
       "    <tr>\n",
       "      <th>889</th>\n",
       "      <td>890</td>\n",
       "      <td>1</td>\n",
       "      <td>1</td>\n",
       "      <td>Behr, Mr. Karl Howell</td>\n",
       "      <td>male</td>\n",
       "      <td>26.0</td>\n",
       "      <td>0</td>\n",
       "      <td>0</td>\n",
       "      <td>111369</td>\n",
       "      <td>30.0000</td>\n",
       "      <td>C148</td>\n",
       "      <td>C</td>\n",
       "    </tr>\n",
       "    <tr>\n",
       "      <th>890</th>\n",
       "      <td>891</td>\n",
       "      <td>0</td>\n",
       "      <td>3</td>\n",
       "      <td>Dooley, Mr. Patrick</td>\n",
       "      <td>male</td>\n",
       "      <td>32.0</td>\n",
       "      <td>0</td>\n",
       "      <td>0</td>\n",
       "      <td>370376</td>\n",
       "      <td>7.7500</td>\n",
       "      <td>NaN</td>\n",
       "      <td>Q</td>\n",
       "    </tr>\n",
       "  </tbody>\n",
       "</table>\n",
       "<p>891 rows × 12 columns</p>\n",
       "</div>"
      ],
      "text/plain": [
       "     PassengerId  Survived  Pclass  \\\n",
       "0              1         0       3   \n",
       "1              2         1       1   \n",
       "2              3         1       3   \n",
       "3              4         1       1   \n",
       "4              5         0       3   \n",
       "..           ...       ...     ...   \n",
       "886          887         0       2   \n",
       "887          888         1       1   \n",
       "888          889         0       3   \n",
       "889          890         1       1   \n",
       "890          891         0       3   \n",
       "\n",
       "                                                  Name     Sex   Age  SibSp  \\\n",
       "0                              Braund, Mr. Owen Harris    male  22.0      1   \n",
       "1    Cumings, Mrs. John Bradley (Florence Briggs Th...  female  38.0      1   \n",
       "2                               Heikkinen, Miss. Laina  female  26.0      0   \n",
       "3         Futrelle, Mrs. Jacques Heath (Lily May Peel)  female  35.0      1   \n",
       "4                             Allen, Mr. William Henry    male  35.0      0   \n",
       "..                                                 ...     ...   ...    ...   \n",
       "886                              Montvila, Rev. Juozas    male  27.0      0   \n",
       "887                       Graham, Miss. Margaret Edith  female  19.0      0   \n",
       "888           Johnston, Miss. Catherine Helen \"Carrie\"  female   NaN      1   \n",
       "889                              Behr, Mr. Karl Howell    male  26.0      0   \n",
       "890                                Dooley, Mr. Patrick    male  32.0      0   \n",
       "\n",
       "     Parch            Ticket     Fare Cabin Embarked  \n",
       "0        0         A/5 21171   7.2500   NaN        S  \n",
       "1        0          PC 17599  71.2833   C85        C  \n",
       "2        0  STON/O2. 3101282   7.9250   NaN        S  \n",
       "3        0            113803  53.1000  C123        S  \n",
       "4        0            373450   8.0500   NaN        S  \n",
       "..     ...               ...      ...   ...      ...  \n",
       "886      0            211536  13.0000   NaN        S  \n",
       "887      0            112053  30.0000   B42        S  \n",
       "888      2        W./C. 6607  23.4500   NaN        S  \n",
       "889      0            111369  30.0000  C148        C  \n",
       "890      0            370376   7.7500   NaN        Q  \n",
       "\n",
       "[891 rows x 12 columns]"
      ]
     },
     "execution_count": 70,
     "metadata": {},
     "output_type": "execute_result"
    }
   ],
   "source": [
    "# Loader les data\n",
    "data = pd.read_csv(\"titanic.csv\")\n",
    "# Afficher la variable data correspondant aux données de base\n",
    "data"
   ]
  },
  {
   "cell_type": "markdown",
   "id": "05045c73",
   "metadata": {},
   "source": [
    "# Questions"
   ]
  },
  {
   "cell_type": "markdown",
   "id": "a164d862",
   "metadata": {},
   "source": [
    "## 1. Préparation des données\n",
    "\n",
    "Remplissez la function `preprocess` ci-dessus. Celle-ci doit:\n",
    "1. Supprimez les colonnes `PassengerId`, `Name`, `Ticket`, `Cabin`.\n",
    "2. Supprimez les lignes contenant au moins une valeur manquante.\n",
    "3. Créer une variable `FamilySize` qui est correspond à `SibSp` + `Parch` + 1. Supprimez les variables `SibSp` et `Parch`.\n",
    "4. Recalculer le prix du billet `Fare` en divisant `Fare` par `FamilySize`.\n",
    "5. Encoder les variables qualitatives `Sex` et `Embarked` avec l'argument `drop_first=True`."
   ]
  },
  {
   "cell_type": "code",
   "execution_count": 71,
   "id": "d4299600",
   "metadata": {},
   "outputs": [],
   "source": [
    "def preprocess(data: pd.DataFrame) -> pd.DataFrame:\n",
    "    \n",
    "    \"\"\"La fonction prépare les données à l'analyse.\n",
    "    \n",
    "    Args:\n",
    "        data (pd.DataFrame): La dataframe originale\n",
    "        \n",
    "    Returns:\n",
    "        pd.DataFrame: La dataframe preprocessé et prête à être analysée.\n",
    "    \"\"\"\n",
    "    \n",
    "    # Faire une copy de la dataframe originale\n",
    "    data_preprocessed = data.copy()\n",
    "    \n",
    "    # Supprimez les variables `PassengerId`, `Name`, `Ticket` & `Cabin`\n",
    "    data_preprocessed.drop(columns=[\"PassengerId\", \"Name\", \"Ticket\", \"Cabin\"], inplace=True)\n",
    "    # inplace=True indique que la modification doit être effectuée directement sur le DataFrame\n",
    "    \n",
    "    # Supprimez lignes contenant au moins une valeur manquante\n",
    "    data_preprocessed.dropna(axis=0, inplace=True)\n",
    "    # axis=0 pour supprimer les lignes et non les colonnes \n",
    "    \n",
    "    # Créer une variable `FamilySize` et supprimez les variables `SibSp` et `Parch`\n",
    "    data_preprocessed['FamilySize']=data_preprocessed['SibSp']+data_preprocessed['Parch']+1\n",
    "    data_preprocessed.drop(columns=[\"SibSp\", \"Parch\"], inplace=True)\n",
    "    \n",
    "    # Recalculer le prix du billet\n",
    "    data_preprocessed['Fare']=data_preprocessed['Fare']/data_preprocessed['FamilySize']\n",
    "    \n",
    "    # Encoded (OHE) `Sex` et `Embarked`\n",
    "    data_preprocessed = pd.get_dummies( # pd.get_dummies permet le One-Hot Encoding\n",
    "        data=data_preprocessed, # Les données sur lesquelles travailler\n",
    "        columns=[\"Sex\",\"Embarked\"], # Les colonnes à encoder\n",
    "        drop_first=True # Supprime la première colonne dummy\n",
    "    )\n",
    "        \n",
    "    # CHECK: NE PAS TOUCHER\n",
    "    for col in [\"PassengerId\", \"Name\", \"Ticket\", \"Cabin\", \"SibSp\", \"Parch\"]:\n",
    "        assert col not in data_preprocessed, f\"{col} n'a pas été retiré.\"\n",
    "    assert data_preprocessed.isna().sum().sum() == 0, \"Il reste encore des NaN à supprimer.\"\n",
    "    assert \"FamilySize\" in data_preprocessed.columns, \"La colonne `FamilySize` n'a pas été créée.\"\n",
    "    assert data_preprocessed.loc[0, \"Fare\"] == 3.625, \"La colonne `Fare` n'a pas été recalculée.\"\n",
    "    for col in [col for col in data_preprocessed if col.startswith(\"Embarked\")]:\n",
    "        assert data_preprocessed[col].nunique() == 2, f\"{col} n'a pas été encodé.\"\n",
    "    for col in [col for col in data_preprocessed if col.startswith(\"Sex\")]:\n",
    "        assert data_preprocessed[col].nunique() == 2, f\"{col} n'a pas été encodé.\"\n",
    "    \n",
    "    return data_preprocessed"
   ]
  },
  {
   "cell_type": "markdown",
   "id": "35ca88d2",
   "metadata": {},
   "source": [
    "Le résultat de la function doit vous donner exactement le tableau ci-dessous."
   ]
  },
  {
   "cell_type": "code",
   "execution_count": 72,
   "id": "53b7ef06",
   "metadata": {},
   "outputs": [
    {
     "data": {
      "text/html": [
       "<div>\n",
       "<style scoped>\n",
       "    .dataframe tbody tr th:only-of-type {\n",
       "        vertical-align: middle;\n",
       "    }\n",
       "\n",
       "    .dataframe tbody tr th {\n",
       "        vertical-align: top;\n",
       "    }\n",
       "\n",
       "    .dataframe thead th {\n",
       "        text-align: right;\n",
       "    }\n",
       "</style>\n",
       "<table border=\"1\" class=\"dataframe\">\n",
       "  <thead>\n",
       "    <tr style=\"text-align: right;\">\n",
       "      <th></th>\n",
       "      <th>Survived</th>\n",
       "      <th>Pclass</th>\n",
       "      <th>Age</th>\n",
       "      <th>Fare</th>\n",
       "      <th>FamilySize</th>\n",
       "      <th>Sex_male</th>\n",
       "      <th>Embarked_Q</th>\n",
       "      <th>Embarked_S</th>\n",
       "    </tr>\n",
       "  </thead>\n",
       "  <tbody>\n",
       "    <tr>\n",
       "      <th>0</th>\n",
       "      <td>0</td>\n",
       "      <td>3</td>\n",
       "      <td>22.0</td>\n",
       "      <td>3.625000</td>\n",
       "      <td>2</td>\n",
       "      <td>1</td>\n",
       "      <td>0</td>\n",
       "      <td>1</td>\n",
       "    </tr>\n",
       "    <tr>\n",
       "      <th>1</th>\n",
       "      <td>1</td>\n",
       "      <td>1</td>\n",
       "      <td>38.0</td>\n",
       "      <td>35.641650</td>\n",
       "      <td>2</td>\n",
       "      <td>0</td>\n",
       "      <td>0</td>\n",
       "      <td>0</td>\n",
       "    </tr>\n",
       "    <tr>\n",
       "      <th>2</th>\n",
       "      <td>1</td>\n",
       "      <td>3</td>\n",
       "      <td>26.0</td>\n",
       "      <td>7.925000</td>\n",
       "      <td>1</td>\n",
       "      <td>0</td>\n",
       "      <td>0</td>\n",
       "      <td>1</td>\n",
       "    </tr>\n",
       "    <tr>\n",
       "      <th>3</th>\n",
       "      <td>1</td>\n",
       "      <td>1</td>\n",
       "      <td>35.0</td>\n",
       "      <td>26.550000</td>\n",
       "      <td>2</td>\n",
       "      <td>0</td>\n",
       "      <td>0</td>\n",
       "      <td>1</td>\n",
       "    </tr>\n",
       "    <tr>\n",
       "      <th>4</th>\n",
       "      <td>0</td>\n",
       "      <td>3</td>\n",
       "      <td>35.0</td>\n",
       "      <td>8.050000</td>\n",
       "      <td>1</td>\n",
       "      <td>1</td>\n",
       "      <td>0</td>\n",
       "      <td>1</td>\n",
       "    </tr>\n",
       "    <tr>\n",
       "      <th>...</th>\n",
       "      <td>...</td>\n",
       "      <td>...</td>\n",
       "      <td>...</td>\n",
       "      <td>...</td>\n",
       "      <td>...</td>\n",
       "      <td>...</td>\n",
       "      <td>...</td>\n",
       "      <td>...</td>\n",
       "    </tr>\n",
       "    <tr>\n",
       "      <th>885</th>\n",
       "      <td>0</td>\n",
       "      <td>3</td>\n",
       "      <td>39.0</td>\n",
       "      <td>4.854167</td>\n",
       "      <td>6</td>\n",
       "      <td>0</td>\n",
       "      <td>1</td>\n",
       "      <td>0</td>\n",
       "    </tr>\n",
       "    <tr>\n",
       "      <th>886</th>\n",
       "      <td>0</td>\n",
       "      <td>2</td>\n",
       "      <td>27.0</td>\n",
       "      <td>13.000000</td>\n",
       "      <td>1</td>\n",
       "      <td>1</td>\n",
       "      <td>0</td>\n",
       "      <td>1</td>\n",
       "    </tr>\n",
       "    <tr>\n",
       "      <th>887</th>\n",
       "      <td>1</td>\n",
       "      <td>1</td>\n",
       "      <td>19.0</td>\n",
       "      <td>30.000000</td>\n",
       "      <td>1</td>\n",
       "      <td>0</td>\n",
       "      <td>0</td>\n",
       "      <td>1</td>\n",
       "    </tr>\n",
       "    <tr>\n",
       "      <th>889</th>\n",
       "      <td>1</td>\n",
       "      <td>1</td>\n",
       "      <td>26.0</td>\n",
       "      <td>30.000000</td>\n",
       "      <td>1</td>\n",
       "      <td>1</td>\n",
       "      <td>0</td>\n",
       "      <td>0</td>\n",
       "    </tr>\n",
       "    <tr>\n",
       "      <th>890</th>\n",
       "      <td>0</td>\n",
       "      <td>3</td>\n",
       "      <td>32.0</td>\n",
       "      <td>7.750000</td>\n",
       "      <td>1</td>\n",
       "      <td>1</td>\n",
       "      <td>1</td>\n",
       "      <td>0</td>\n",
       "    </tr>\n",
       "  </tbody>\n",
       "</table>\n",
       "<p>712 rows × 8 columns</p>\n",
       "</div>"
      ],
      "text/plain": [
       "     Survived  Pclass   Age       Fare  FamilySize  Sex_male  Embarked_Q  \\\n",
       "0           0       3  22.0   3.625000           2         1           0   \n",
       "1           1       1  38.0  35.641650           2         0           0   \n",
       "2           1       3  26.0   7.925000           1         0           0   \n",
       "3           1       1  35.0  26.550000           2         0           0   \n",
       "4           0       3  35.0   8.050000           1         1           0   \n",
       "..        ...     ...   ...        ...         ...       ...         ...   \n",
       "885         0       3  39.0   4.854167           6         0           1   \n",
       "886         0       2  27.0  13.000000           1         1           0   \n",
       "887         1       1  19.0  30.000000           1         0           0   \n",
       "889         1       1  26.0  30.000000           1         1           0   \n",
       "890         0       3  32.0   7.750000           1         1           1   \n",
       "\n",
       "     Embarked_S  \n",
       "0             1  \n",
       "1             0  \n",
       "2             1  \n",
       "3             1  \n",
       "4             1  \n",
       "..          ...  \n",
       "885           0  \n",
       "886           1  \n",
       "887           1  \n",
       "889           0  \n",
       "890           0  \n",
       "\n",
       "[712 rows x 8 columns]"
      ]
     },
     "metadata": {},
     "output_type": "display_data"
    }
   ],
   "source": [
    "# Preprocess les données à l'aide de la function `preprocess`\n",
    "data_clean = preprocess(data)\n",
    "display(data_clean)"
   ]
  },
  {
   "cell_type": "markdown",
   "id": "5a1091b1",
   "metadata": {},
   "source": [
    "## 2. Inférence statistique (4 pts)"
   ]
  },
  {
   "cell_type": "markdown",
   "id": "93fdb7b6",
   "metadata": {},
   "source": [
    "**Q1: L'âge moyen des passagers du Titanic est-il est le même que l'âge moyen de la population en 1912 (28 ans)?**\n",
    "Non, la moyenne n'est pas la même. 29.642 contre 28 ans."
   ]
  },
  {
   "cell_type": "code",
   "execution_count": 75,
   "id": "318b58e3",
   "metadata": {},
   "outputs": [
    {
     "name": "stdout",
     "output_type": "stream",
     "text": [
      "29.64209269662921\n"
     ]
    }
   ],
   "source": [
    "#1. Variable : âge, type quantitative\n",
    "# Âge moyen des passagers\n",
    "age_mean = data_clean[\"Age\"].mean() \n",
    "print(age_mean)"
   ]
  },
  {
   "cell_type": "code",
   "execution_count": 74,
   "id": "f738c9c3",
   "metadata": {},
   "outputs": [
    {
     "data": {
      "image/png": "[encoded data removed]",
      "text/plain": [
       "<Figure size 500x500 with 1 Axes>"
      ]
     },
     "metadata": {},
     "output_type": "display_data"
    }
   ],
   "source": [
    "#Visualisation\n",
    "#Histogramme de l'âge de tous les passagers du Titanic\n",
    "sns.displot(\n",
    "    data=data_clean, # notre dataframe\n",
    "    x=\"Age\", # colonne qui nous intéresse\n",
    "    kde=True # ajouter une courbe d'estimation\n",
    ")\n",
    "plt.title(\"Distribution des âges\")\n",
    "plt.show()"
   ]
  },
  {
   "cell_type": "markdown",
   "id": "aa95c12c",
   "metadata": {},
   "source": [
    "$H_0: \\mu_{\\text{moyenne age titanic}} = \\mu_{\\text{moyenne age population_1912}}$, $H_1: \\mu_{\\text{moyenne age titanic}} \\ne \\mu_{\\text{moyenne age population 1912}}$"
   ]
  },
  {
   "cell_type": "markdown",
   "id": "39a15c1b",
   "metadata": {},
   "source": [
    "C'est un T-TEST car une seule variable et nous ne connaissons pas l'écart de la population car il n'est pas donné"
   ]
  },
  {
   "cell_type": "markdown",
   "id": "42352d90",
   "metadata": {},
   "source": [
    "Les assumptions pour un T-TEST sont :\n",
    "\n",
    "    - L'échantillon est aléatoire\n",
    "    - La taille de l'échantillon est supérieur à 30, ou la population est normalement distribuée\n",
    "Pour vérifier la taille de l'échantillon, il suffit consulter le nombre de lignes dans le \"data_clean\" --> 712 rows"
   ]
  },
  {
   "cell_type": "code",
   "execution_count": 40,
   "id": "3bad52b9",
   "metadata": {},
   "outputs": [
    {
     "name": "stdout",
     "output_type": "stream",
     "text": [
      "La statistique t est de : 3.0233009800374053\n",
      "La p-valeur associée est de : 0.002590259537786662\n",
      "Avec un seuil alpha 0.05 on rejète l'hypothèse nulle car p-valeur < alpha.\n"
     ]
    }
   ],
   "source": [
    "alpha = 0.05 #Seuil de 5% comme utilisé en classe\n",
    "ages = data_clean['Age'] #Tableau de tous les âges à partir de notre data frame clean\n",
    "\n",
    "#stats.ttest_1samp permet de calculer le t-test en une seule ligne\n",
    "t, p_valeur = stats.ttest_1samp(ages, popmean=28) #param de notre fonction, âge moyen calculé au-dessus et l'âge moyen 1912\n",
    "\n",
    "print(\"La statistique t est de : \" + str(t))\n",
    "print(\"La p-valeur associée est de : \" + str(p_valeur))\n",
    "\n",
    "# Si p-valeur < alpha, on rejète l'hypothèse nulle\n",
    "if p_valeur < alpha:\n",
    "    print(\"Avec un seuil alpha\", str(alpha), \"on rejète l'hypothèse nulle car p-valeur < alpha.\")\n",
    "    \n",
    "# Si p-valeur > alpha, on ne rejète pas l'hypothèse nulle\n",
    "else:\n",
    "    print(\"Avec un seuil alpha\", str(alpha), \"on ne rejète pas l'hypothèse nulle car p-valeur > alpha.\")"
   ]
  },
  {
   "cell_type": "markdown",
   "id": "7ec7b55f",
   "metadata": {},
   "source": [
    "**Q2: La survie dépend-elle de la classe du passager?**"
   ]
  },
  {
   "cell_type": "markdown",
   "id": "06ec93e8",
   "metadata": {},
   "source": [
    "Survived = variable qualitative nominale\n",
    "Pclass = variable qualitative ordinale"
   ]
  },
  {
   "cell_type": "code",
   "execution_count": 45,
   "id": "b75d3a89",
   "metadata": {},
   "outputs": [
    {
     "data": {
      "image/png": "[encoded data removed]",
      "text/plain": [
       "<Figure size 558.875x500 with 1 Axes>"
      ]
     },
     "metadata": {},
     "output_type": "display_data"
    }
   ],
   "source": [
    "# Comment varie le nombre de survivants en fonction de la classe ?\n",
    "sns.catplot(\n",
    "    data=data_clean,\n",
    "    x=\"Survived\",\n",
    "    hue=\"Pclass\",\n",
    "    kind=\"count\" # pour obtenir le count \n",
    ")\n",
    "plt.title(\"\\\"Grouped bar chart\\\" survie et classe\")\n",
    "plt.show()"
   ]
  },
  {
   "cell_type": "markdown",
   "id": "d5ef7f15",
   "metadata": {},
   "source": [
    "Ce chart nous permet de visualiser que dans la première classe (bleue), ~2x plus de passagers ont survécu.\n",
    "Le nombre de survivants est ~égal pour la deuxième classe.\n",
    "Pour la troisième, ~3x de décès que de survivants."
   ]
  },
  {
   "cell_type": "markdown",
   "id": "a1fed0b6",
   "metadata": {},
   "source": [
    "$H_0$: La survie est **indépandente** de la classe. $H_1$: La survie n'est **pas indépendante** de la classe."
   ]
  },
  {
   "cell_type": "markdown",
   "id": "d439727b",
   "metadata": {},
   "source": [
    "On est en présence d'un CHI-SQUARE TEST (indépendance test) car nous avons deux variables qualitatives et souhaitons savoir si elles sont dépendantes ou pas."
   ]
  },
  {
   "cell_type": "markdown",
   "id": "0c706324",
   "metadata": {},
   "source": [
    "Les assumptions pour un CHI-SQUARE TEST sont :\n",
    "\n",
    "    - L'échantillon est aléatoire\n",
    "    - Pour chaque combinaison des niveaux des variables, nous avons besoin d’au moins 5 valeurs (validé par le grouped bar chart)\n",
    "    - Les variables sont bien catégoriques.\n",
    "    - Les variables sont indépendentes."
   ]
  },
  {
   "cell_type": "code",
   "execution_count": 48,
   "id": "99f7f548",
   "metadata": {},
   "outputs": [
    {
     "name": "stdout",
     "output_type": "stream",
     "text": [
      "Le test statistique est de :  91.08074548791019\n",
      "La p-valeur est de :  1.6675060315554636e-20\n",
      "Les degrés de libertés sont de :  2\n"
     ]
    }
   ],
   "source": [
    "#Création du tableau de contingence\n",
    "observed = pd.crosstab(data_clean['Survived'], data_clean['Pclass'])\n",
    "\n",
    "# Utilisons la foncton chi2_contingency\n",
    "chi2_stat, p_val, dof, ex = stats.chi2_contingency(observed) #on passe que ce paramètre à la méthode donc le tableau de contingence\n",
    "#cette méthode nous retourne plusieurs éléments : Le test statistique, La p-valeur, Les degrés de liberté, Les valeurs attendues\n",
    "\n",
    "#Affichage des résultats\n",
    "print(\"Le test statistique est de : \", chi2_stat)\n",
    "print(\"La p-valeur est de : \", p_val)\n",
    "print(\"Les degrés de libertés sont de : \", dof)\n"
   ]
  },
  {
   "cell_type": "markdown",
   "id": "5d08fc34",
   "metadata": {},
   "source": [
    "Analyse des résultats :\n",
    "* Le test statistique est 91.08.\n",
    "* **p-valeur > seuil**.\n",
    "* Les degrés de liberté sont 2 (2x1=2).          TODO Poser question à quoi ça sert ??\n",
    "* Les valeurs attendues sont données (e.g., premier élément = 100x64/200 = 32)"
   ]
  },
  {
   "cell_type": "markdown",
   "id": "bd575a0e",
   "metadata": {},
   "source": [
    "Puisque p-valeur > seuil, on ne **rejette pas l'hypothèse nulle**. Il y a assez de preuve pour ne pas rejetter l'idée selon laquelle la survie et la classe sont indépendantes.\n",
    "En d'autres termes, on ne rejette pas $H_0$ car la variables sont indépendantes l'une de l'autre."
   ]
  },
  {
   "cell_type": "markdown",
   "id": "6dba1f3c",
   "metadata": {},
   "source": [
    "**Q3: Existe-t-il une différence d'âge entre les passagers qui ont survécu et les passagers décédés?**"
   ]
  },
  {
   "cell_type": "markdown",
   "id": "576df9f6",
   "metadata": {},
   "source": [
    "L'âge  = variable quantitative \n",
    "Survived = variable qualitative nominale"
   ]
  },
  {
   "cell_type": "code",
   "execution_count": 52,
   "id": "b911e721",
   "metadata": {},
   "outputs": [
    {
     "data": {
      "image/png": "[encoded data removed]",
      "text/plain": [
       "<Figure size 640x480 with 1 Axes>"
      ]
     },
     "metadata": {},
     "output_type": "display_data"
    }
   ],
   "source": [
    "#Pour visualiser la relation entre une variable quantitative et une variable qualitative, on utilise un Box plot\n",
    "\n",
    "sns.boxplot(\n",
    "    data=data_clean,\n",
    "    x=\"Survived\", # qualitatif\n",
    "    y=\"Age\", # quantitatif\n",
    "    showmeans=True # montrer les moyennes (False par défaut)\n",
    ")\n",
    "\n",
    "plt.title(\"Boxplot survie et âge\")\n",
    "\n",
    "plt.show()"
   ]
  },
  {
   "cell_type": "markdown",
   "id": "556fa85c",
   "metadata": {},
   "source": [
    "Ce chart nous permet de visualiser la répartition des âges en fonction de la survie du passager ou non.\n",
    "On affiche les valeurs extrèmes avec les losanges ainsi que les moyennes avec le triangle vert."
   ]
  },
  {
   "cell_type": "markdown",
   "id": "2bbe8c4e",
   "metadata": {},
   "source": [
    "$H_0: \\mu_{\\text{age survivants}} = \\mu_{\\text{age decedes}}$, $H_1: \\mu_{\\text{age survivants}} \\ne \\mu_{\\text{age decedes}}$"
   ]
  },
  {
   "cell_type": "markdown",
   "id": "156a8afd",
   "metadata": {},
   "source": [
    "Les assumptions pour un T-TEST à deux échantillons sont :\n",
    "\n",
    "    - Les échantillons sont aléatoires.\n",
    "    - Les échantillons sont indépendants les uns des autres.\n",
    "    - La taille des échantillons est supérieure à 30, ou les populations sont normalement distribuées."
   ]
  },
  {
   "cell_type": "code",
   "execution_count": 107,
   "id": "52cdf9a2",
   "metadata": {},
   "outputs": [
    {
     "name": "stdout",
     "output_type": "stream",
     "text": [
      "Nombre de survivants :  288\n",
      "Moyenne d'âge des survivants: 28.19329861111111\n",
      "Nombre de décédés :  424\n",
      "Moyenne d'âge des décédés: 30.62617924528302\n"
     ]
    },
    {
     "data": {
      "image/png": "[encoded data removed]",
      "text/plain": [
       "<Figure size 572.111x500 with 1 Axes>"
      ]
     },
     "metadata": {},
     "output_type": "display_data"
    }
   ],
   "source": [
    "# Séparation des âges en fonction de la survie\n",
    "\n",
    "#Récupération de tous les âges des survivants et des décédés sous forme de tableaux\n",
    "ages_survived = data_clean[data_clean['Survived'] == 1]['Age'] \n",
    "ages_not_survived = data_clean[data_clean['Survived'] == 0]['Age']\n",
    " \n",
    "# Affichage des counts et des moyennes d'âge\n",
    "print('Nombre de survivants : ', ages_survived.count())\n",
    "print('Moyenne d\\'âge des survivants:', ages_survived.mean())\n",
    "print('Nombre de décédés : ', ages_not_survived.count())\n",
    "print('Moyenne d\\'âge des décédés:', ages_not_survived.mean())\n",
    "\n",
    "    \n",
    "# Distributions des âges en fonction des survivants\n",
    "sns.displot(\n",
    "    data=data_clean,\n",
    "    x=\"Age\",\n",
    "    hue=\"Survived\",\n",
    "    kind=\"kde\",\n",
    "    fill=True # remplir les distributions\n",
    ")\n",
    "plt.title(\"Distributions des âges en fonction de la survie\")\n",
    "plt.show()\n",
    "\n",
    "    "
   ]
  },
  {
   "cell_type": "markdown",
   "id": "2fbf0812",
   "metadata": {},
   "source": [
    "Les échantillons sont indépendants car survie et non survie\n",
    "\n",
    "Ce graphe permet de vérifier l'asumption que les populations sont normalement distribuées\n",
    "\n",
    "Les échantillons sont > 30 comme affiché au-dessus (288 et 424)"
   ]
  },
  {
   "cell_type": "code",
   "execution_count": 109,
   "id": "54860679",
   "metadata": {},
   "outputs": [
    {
     "name": "stdout",
     "output_type": "stream",
     "text": [
      "Test statistique : -2.184486214939826\n",
      "p-valeur : 0.02931497754601072\n",
      "\n",
      "Il existe une différence d'âge significative entre les passagers qui ont survécu et ceux qui sont décédés.\n"
     ]
    }
   ],
   "source": [
    "# Test t pour échantillons indépendants\n",
    "t_stat, p_value = stats.ttest_ind(\n",
    "    ages_survived,\n",
    "    ages_not_survived,\n",
    "    alternative=\"two-sided\",\n",
    "    equal_var=False\n",
    ")\n",
    " \n",
    "# Affichage des résultats\n",
    "print(\"Test statistique :\", t_stat)\n",
    "print(\"p-valeur :\", p_value)\n",
    "print(\"\")\n",
    " \n",
    "# Interprétation des résultats\n",
    "alpha = 0.05\n",
    "if p_value < alpha:\n",
    "    print(\"Il existe une différence d'âge significative entre les passagers qui ont survécu et ceux qui sont décédés.\")\n",
    "else:\n",
    "    print(\"Il n'existe pas de différence d'âge significative entre les passagers qui ont survécu et ceux qui sont décédés.\")"
   ]
  },
  {
   "cell_type": "markdown",
   "id": "29b7423e",
   "metadata": {},
   "source": [
    "Explication du résultat : \n",
    "\n",
    "Selon notre seul alpha, la différence des moyennes est significative. Lorsqu'on compare les moyennes (28 et 30), on pourrait être tenté de dire qu'elles ne sont pas si différentes. Or, notre test d'hypothèse nous indique plutôt si la différence est susceptible d'être due au hasard ou pas.\n",
    "\n",
    "Statistiquement, la différence est importante, mais l'orsqu'un \"humain\" effectue cette comparaison, on a l'impression que ça ne l'est pas."
   ]
  },
  {
   "cell_type": "markdown",
   "id": "5425c746",
   "metadata": {},
   "source": [
    "**Q4: Existe-t-il une relation entre l'âge des passagers et le prix des billets?**"
   ]
  },
  {
   "cell_type": "markdown",
   "id": "29f6871f",
   "metadata": {},
   "source": [
    "Pour chacune des questions 1 à 4 ci-dessus, argumenter de manière statistique en effectuant chacune des étapes suivantes:\n",
    "1. Identifier la ou les variables d'intérêt et spécifier le type.\n",
    "2. Réaliser une visualisation appropriée selon la ou les variables.\n",
    "3. Enoncer une hypothèse nulle et une hypothèse alternative considérant la ou les variables identifiées.\n",
    "4. Identifier le test statistique approprié selon les hypothèses énoncées.\n",
    "5. Vérifier la validation des assumptions selon le test identifié.\n",
    "6. Calculer la statistique ainsi que la p-valeur.\n",
    "7. Prendre une décision à partir de la p-valeur et d'un seuil alpha de 5%.\n",
    "8. Interpréter le résultat et évaluer la taille de l'effet."
   ]
  },
  {
   "cell_type": "markdown",
   "id": "493516ca",
   "metadata": {},
   "source": [
    "Quelques liens utiles pour la taille de l'effet:\n",
    "* [https://rpsychologist.com/cohend/](https://rpsychologist.com/cohend/)\n",
    "* [https://datatab.net/tutorial/effect-size-independent-t-test](https://datatab.net/tutorial/effect-size-independent-t-test)\n",
    "* [https://www.simplypsychology.org/effect-size.html](https://www.simplypsychology.org/effect-size.html)"
   ]
  },
  {
   "cell_type": "markdown",
   "id": "740c3ff2",
   "metadata": {},
   "source": [
    "## 3. Data mining (2 pts)"
   ]
  },
  {
   "cell_type": "markdown",
   "id": "6f89920e",
   "metadata": {},
   "source": [
    "**Q1: Effectuer une analyse statistique à l'aide de la régression logistique avec comme variable dépendente la variable `Survived`. Interpréter les coefficients et discuter de leur importance statistique en vous appuyant sur leur p-valeur.**"
   ]
  },
  {
   "cell_type": "markdown",
   "id": "0d66b468",
   "metadata": {},
   "source": [
    "**Q2: Effecter une analyse statistique à l'aide d'un arbre de classification avec comme variable dépendente la variable `Survived` et une profondeur maximale de 4. Visualiser l'arbre et expliquer quelques décisions.**"
   ]
  },
  {
   "cell_type": "markdown",
   "id": "42c0a724",
   "metadata": {},
   "source": [
    "**Conclusion: Interpréter les résultats des deux analyses statistiques et résumer les points importants de votre étude.**"
   ]
  }
 ],
 "metadata": {
  "kernelspec": {
   "display_name": "Python 3 (ipykernel)",
   "language": "python",
   "name": "python3"
  },
  "language_info": {
   "codemirror_mode": {
    "name": "ipython",
    "version": 3
   },
   "file_extension": ".py",
   "mimetype": "text/x-python",
   "name": "python",
   "nbconvert_exporter": "python",
   "pygments_lexer": "ipython3",
   "version": "3.11.4"
  }
 },
 "nbformat": 4,
 "nbformat_minor": 5
}
